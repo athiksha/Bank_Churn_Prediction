{
 "cells": [
  {
   "cell_type": "markdown",
   "id": "829650c4",
   "metadata": {},
   "source": [
    "# Bank Churn Prediction Using Machine Learning Algorithms"
   ]
  },
  {
   "cell_type": "raw",
   "id": "70ab0381",
   "metadata": {},
   "source": [
    "Importing the libraries"
   ]
  },
  {
   "cell_type": "code",
   "execution_count": null,
   "id": "820a18b8-8210-47c3-99df-260f8a1def3d",
   "metadata": {},
   "outputs": [],
   "source": [
    "import pandas as pd\n",
    "import numpy as np\n",
    "import matplotlib.pyplot as plt\n",
    "import seaborn as sns\n",
    "from sklearn.preprocessing import OneHotEncoder, StandardScaler, MinMaxScaler, MaxAbsScaler\n",
    "from sklearn.model_selection import train_test_split\n",
    "from sklearn.feature_selection import SelectKBest, chi2\n",
    "from sklearn.ensemble import RandomForestClassifier\n",
    "from sklearn.feature_selection import VarianceThreshold\n",
    "from sklearn.metrics import roc_curve, auc, confusion_matrix, ConfusionMatrixDisplay, classification_report, roc_auc_score, accuracy_score\n",
    "from sklearn.tree import DecisionTreeClassifier\n",
    "from sklearn.svm import SVC\n",
    "from sklearn.preprocessing import label_binarize\n",
    "from sklearn.naive_bayes import GaussianNB\n",
    "from sklearn.preprocessing import LabelEncoder\n",
    "from sklearn.decomposition import PCA\n",
    "from tabulate import tabulate\n",
    "from sklearn.feature_selection import RFECV\n",
    "from sklearn.model_selection import StratifiedKFold\n",
    "import prince"
   ]
  },
  {
   "cell_type": "markdown",
   "id": "907b1750",
   "metadata": {},
   "source": [
    "# Data Preprocessing and Manipulation"
   ]
  },
  {
   "cell_type": "raw",
   "id": "ba830b81",
   "metadata": {},
   "source": [
    "Loading the datasets"
   ]
  },
  {
   "cell_type": "code",
   "execution_count": null,
   "id": "be5d82b2-691f-4fbd-bb29-e2e3a7834aab",
   "metadata": {},
   "outputs": [],
   "source": [
    "datasetDW  =  pd.read_csv('dataset/train1.csv')\n",
    "datasetDW.head()\n",
    "print(datasetDW.shape)\n",
    "datasetKaggle  =  pd.read_csv('dataset/train.csv')\n",
    "datasetKaggle.head()\n",
    "print(datasetKaggle.shape)"
   ]
  },
  {
   "cell_type": "raw",
   "id": "b4f89e35",
   "metadata": {},
   "source": [
    "Displaying columns and its data types"
   ]
  },
  {
   "cell_type": "code",
   "execution_count": null,
   "id": "2fd272c9-c74e-42a7-914b-ee96096736f8",
   "metadata": {},
   "outputs": [],
   "source": [
    "data_types = pd.DataFrame(datasetDW.dtypes, columns=['Data Type'])\n",
    "data_types.reset_index(inplace=True)\n",
    "data_types.columns = ['Column Name', 'Data Type']\n",
    "print(tabulate(data_types, headers='keys', tablefmt='psql', showindex=False))"
   ]
  },
  {
   "cell_type": "code",
   "execution_count": null,
   "id": "e85c8701-c85b-499b-926e-eb7c09751179",
   "metadata": {},
   "outputs": [],
   "source": [
    "data_types = pd.DataFrame(datasetKaggle.dtypes, columns=['Data Type'])\n",
    "data_types.reset_index(inplace=True)\n",
    "data_types.columns = ['Column Name', 'Data Type']\n",
    "print(tabulate(data_types, headers='keys', tablefmt='psql', showindex=False))"
   ]
  },
  {
   "cell_type": "code",
   "execution_count": null,
   "id": "2c8c366c-123f-4b48-b522-4200a4ae5d61",
   "metadata": {},
   "outputs": [],
   "source": [
    "datasetKaggle.columns"
   ]
  },
  {
   "cell_type": "code",
   "execution_count": null,
   "id": "d65b61f9-3b03-448d-a195-4ef5aadc58dc",
   "metadata": {},
   "outputs": [],
   "source": [
    "datasetDW.columns"
   ]
  },
  {
   "cell_type": "raw",
   "id": "54747ab1",
   "metadata": {},
   "source": [
    "Converting the data types"
   ]
  },
  {
   "cell_type": "code",
   "execution_count": null,
   "id": "d2f5f8dd-c267-48c0-892b-5774141c21f0",
   "metadata": {},
   "outputs": [],
   "source": [
    "datasetKaggle['Age'] = datasetKaggle['Age'].astype('int64')\n",
    "datasetKaggle['HasCrCard'] = datasetKaggle['HasCrCard'].astype('int64')\n",
    "datasetKaggle['IsActiveMember'] = datasetKaggle['IsActiveMember'].astype('int64')\n",
    "\n",
    "datasetKaggle.rename(columns={'id': 'RowNumber'}, inplace=True)"
   ]
  },
  {
   "cell_type": "code",
   "execution_count": null,
   "id": "54e6ada7-9f0d-4ea3-9a08-52a6eee0a05c",
   "metadata": {},
   "outputs": [],
   "source": [
    "print(datasetKaggle.dtypes)\n",
    "print(datasetDW.dtypes)\n"
   ]
  },
  {
   "cell_type": "raw",
   "id": "8aa63e61",
   "metadata": {},
   "source": [
    "Concatenating both datasets from Kaggle and Data World"
   ]
  },
  {
   "cell_type": "code",
   "execution_count": null,
   "id": "071aa82e-4adf-4401-baaf-d1df49516276",
   "metadata": {},
   "outputs": [],
   "source": [
    "data = pd.concat([datasetKaggle, datasetDW], axis=0, ignore_index=True)\n",
    "\n",
    "print(data.shape)"
   ]
  },
  {
   "cell_type": "code",
   "execution_count": null,
   "id": "2e5b120a-e0f0-4ca1-87e1-63deac49b98d",
   "metadata": {},
   "outputs": [],
   "source": [
    "data.columns"
   ]
  },
  {
   "cell_type": "code",
   "execution_count": null,
   "id": "339daec6-e35f-4399-aa13-8e1f8d87c474",
   "metadata": {},
   "outputs": [],
   "source": [
    "data.describe()"
   ]
  },
  {
   "cell_type": "code",
   "execution_count": null,
   "id": "1bb1f48b-4c80-431e-a53f-b275d0e10bd4",
   "metadata": {},
   "outputs": [],
   "source": [
    "columns_na = data.isna().any()\n",
    "print(columns_na)"
   ]
  },
  {
   "cell_type": "raw",
   "id": "e63f49a6",
   "metadata": {},
   "source": [
    "Extracting train and test dataset"
   ]
  },
  {
   "cell_type": "code",
   "execution_count": null,
   "id": "d52597ef-3e47-4b53-8240-f16cb45441bb",
   "metadata": {},
   "outputs": [],
   "source": [
    "X = data.drop(['Exited', 'RowNumber', 'CustomerId', 'Surname'], axis=1)\n",
    "y = data['Exited']"
   ]
  },
  {
   "cell_type": "markdown",
   "id": "d1f257a8",
   "metadata": {},
   "source": [
    "# Exploratory Data Analysis"
   ]
  },
  {
   "cell_type": "code",
   "execution_count": null,
   "id": "21b40075-3cbf-4454-b8e3-a6f69a8bf168",
   "metadata": {},
   "outputs": [],
   "source": [
    "churn_rate = data['Exited'].value_counts(normalize=True)\n",
    "\n",
    "churn_rate.index = churn_rate.index.map({0: 'Retained', 1: 'Churned'})\n",
    "\n",
    "plt.figure(figsize=(10, 10))\n",
    "churn_rate.plot(kind='bar', color=['green', 'red'])\n",
    "plt.title('Customer Churn Rate')\n",
    "plt.xlabel('Status')\n",
    "plt.ylabel('Proportion')\n",
    "plt.xticks(rotation=0)\n",
    "plt.show()"
   ]
  },
  {
   "cell_type": "code",
   "execution_count": null,
   "id": "039b3e39-7b27-441d-911c-e7908fb11ee8",
   "metadata": {},
   "outputs": [],
   "source": [
    "fig, axs = plt.subplots(2, 1, figsize=(10, 10))\n",
    "\n",
    "axs[0].hist(data[data['Exited'] == 0]['Age'], bins=20, color='blue', alpha=1, label='Retained')\n",
    "axs[0].hist(data[data['Exited'] == 1]['Age'], bins=20, color='red', alpha=1, label='Churned')\n",
    "axs[0].set_title('Age Distribution by Churn Status')\n",
    "axs[0].set_xlabel('Age')\n",
    "axs[0].set_ylabel('Number of Customers')\n",
    "axs[0].legend()\n",
    "\n",
    "axs[1].hist(data[data['Exited'] == 0]['Tenure'], bins=20, color='blue', alpha=1, label='Retained')\n",
    "axs[1].hist(data[data['Exited'] == 1]['Tenure'], bins=20, color='red', alpha=1, label='Churned')\n",
    "axs[1].set_title('Tenure Distribution by Churn Status')\n",
    "axs[1].set_xlabel('Tenure (years)')\n",
    "axs[1].set_ylabel('Number of Customers')\n",
    "axs[1].legend()\n",
    "\n",
    "plt.tight_layout()\n",
    "plt.show()"
   ]
  },
  {
   "cell_type": "code",
   "execution_count": null,
   "id": "908d4646-fa02-4d02-9f0c-353ce0e97568",
   "metadata": {},
   "outputs": [],
   "source": [
    "fig, axs = plt.subplots(1, 2, figsize=(10, 10))\n",
    "\n",
    "gender_retained_counts = data[data['Exited'] == 0]['Gender'].value_counts()\n",
    "axs[0].pie(gender_retained_counts, labels=gender_retained_counts.index, autopct='%1.1f%%', startangle=140, colors=['blue', 'green'])\n",
    "axs[0].set_title('Gender Distribution of Retained Customers')\n",
    "\n",
    "gender_exited_counts = data[data['Exited'] == 1]['Gender'].value_counts()\n",
    "axs[1].pie(gender_exited_counts, labels=gender_exited_counts.index, autopct='%1.1f%%', startangle=140, colors=['red', 'orange'])\n",
    "axs[1].set_title('Gender Distribution of Churned Customers')\n",
    "\n",
    "plt.show()\n"
   ]
  },
  {
   "cell_type": "code",
   "execution_count": null,
   "id": "4139b1d8-1436-48f6-9980-1c1995849b6f",
   "metadata": {},
   "outputs": [],
   "source": [
    "X.columns"
   ]
  },
  {
   "cell_type": "code",
   "execution_count": null,
   "id": "cfc72231-bbb8-4730-b8f1-4f8c510c28bc",
   "metadata": {},
   "outputs": [],
   "source": [
    "average_age = data.groupby('Exited')['Age'].mean()\n",
    "average_tenure = data.groupby('Exited')['Tenure'].mean()\n",
    "\n",
    "fig, axs = plt.subplots(1, 2, figsize=(10, 10))\n",
    "\n",
    "# Bar graph for Average Age\n",
    "axs[0].bar(['Retained', 'Churned'], average_age, color=['blue', 'red'])\n",
    "axs[0].set_title('Average Age by Churn Status')\n",
    "axs[0].set_xlabel('Churn Status')\n",
    "axs[0].set_ylabel('Average Age')\n",
    "\n",
    "# Bar graph for Average Tenure\n",
    "axs[1].bar(['Retained', 'Churned'], average_tenure, color=['green', 'orange'])\n",
    "axs[1].set_title('Average Tenure by Churn Status')\n",
    "axs[1].set_xlabel('Churn Status')\n",
    "axs[1].set_ylabel('Average Tenure (years)')\n",
    "\n",
    "plt.tight_layout()\n",
    "plt.show()\n"
   ]
  },
  {
   "cell_type": "code",
   "execution_count": null,
   "id": "a818d480-75ec-466c-970c-7b6697deafa5",
   "metadata": {},
   "outputs": [],
   "source": [
    "y.shape"
   ]
  },
  {
   "cell_type": "code",
   "execution_count": null,
   "id": "8b982ac0-22bb-45a4-82bd-ed6bcca5481d",
   "metadata": {},
   "outputs": [],
   "source": [
    "categorical = ['Geography', 'Gender', 'HasCrCard', 'IsActiveMember']\n",
    "numerical = ['Age', 'Balance', 'CreditScore', 'EstimatedSalary', 'NumOfProducts', 'Tenure']\n",
    "print(categorical, numerical, sep = \"\\n\")"
   ]
  },
  {
   "cell_type": "markdown",
   "id": "0bd9ccd8",
   "metadata": {},
   "source": [
    "# Feature Selection"
   ]
  },
  {
   "cell_type": "code",
   "execution_count": null,
   "id": "6c03a49e-f529-47fc-95bd-d159da0953c5",
   "metadata": {},
   "outputs": [],
   "source": [
    "def scaling_data(X, numerical, categorical):\n",
    "    labelencoder = LabelEncoder()\n",
    "    numerical_scaler = MaxAbsScaler()\n",
    "    X[numerical] = numerical_scaler.fit_transform(X[numerical])\n",
    "    varianceThreshold = VarianceThreshold(threshold=0.01).fit(X[numerical])\n",
    "    mask = varianceThreshold.get_support()\n",
    "    selected_columns = X[numerical].columns[mask]\n",
    "    num = varianceThreshold.transform(X[numerical])\n",
    "    numerical_df = pd.DataFrame(num, columns=selected_columns)\n",
    "\n",
    "    for column in categorical:\n",
    "        X[column] = labelencoder.fit_transform(X[column])\n",
    "        \n",
    "    print(numerical_df.columns)\n",
    "    categorical_df = X[categorical].reset_index(drop=True)\n",
    "    \n",
    "    return pd.concat([numerical_df, categorical_df], axis=1)"
   ]
  },
  {
   "cell_type": "code",
   "execution_count": null,
   "id": "7f574933-a70b-403a-b9bb-5172fb05376d",
   "metadata": {},
   "outputs": [],
   "source": [
    "X.columns"
   ]
  },
  {
   "cell_type": "code",
   "execution_count": null,
   "id": "9261185a-3b0d-43e7-b827-2d68a5b15a14",
   "metadata": {},
   "outputs": [],
   "source": [
    "data_df = scaling_data(data.drop(['RowNumber', 'CustomerId', 'Surname'], axis=1), numerical, categorical)\n",
    "correlation_matrix = data_df.corr()\n",
    "print(correlation_matrix)"
   ]
  },
  {
   "cell_type": "markdown",
   "id": "67785c60",
   "metadata": {},
   "source": [
    "# Correlation matrix"
   ]
  },
  {
   "cell_type": "code",
   "execution_count": null,
   "id": "e174b15a-d218-467c-83b8-c94212803aca",
   "metadata": {},
   "outputs": [],
   "source": [
    "plt.figure(figsize=(8,6))\n",
    "sns.heatmap(correlation_matrix, annot=True, cmap='coolwarm', fmt=\".2f\")\n",
    "plt.title('Correlation Matrix')\n",
    "plt.show()"
   ]
  },
  {
   "cell_type": "code",
   "execution_count": null,
   "id": "a4b11c63-3f39-4c2d-aab6-250d936bff1e",
   "metadata": {},
   "outputs": [],
   "source": [
    "X = scaling_data(X, numerical, categorical)\n",
    "X.head()"
   ]
  },
  {
   "cell_type": "markdown",
   "id": "d2999824",
   "metadata": {},
   "source": [
    "# Recursive Feature Selection with Cross Validation"
   ]
  },
  {
   "cell_type": "code",
   "execution_count": null,
   "id": "42f06b94-74ab-4fe6-a48d-b3f368a7b350",
   "metadata": {},
   "outputs": [],
   "source": [
    "cv = StratifiedKFold(n_splits=5)\n",
    "model = RandomForestClassifier(random_state=42)\n",
    "rfecv = RFECV(estimator=model, step=1, cv=cv, scoring='accuracy', min_features_to_select=1)\n",
    "rfecv.fit(X, y)\n"
   ]
  },
  {
   "cell_type": "code",
   "execution_count": null,
   "id": "69b02c1c-b8a1-4f85-bbf1-4000152bab46",
   "metadata": {},
   "outputs": [],
   "source": [
    "optimal_number_of_features = rfecv.n_features_\n",
    "mean_scores = rfecv.cv_results_['mean_test_score']\n",
    "\n",
    "plt.figure(figsize=(10, 10))\n",
    "plt.plot(range(1, len(mean_scores) + 1), mean_scores, marker='o')\n",
    "plt.title(\"RFECV: Number of features vs. Accuracy Score\")\n",
    "plt.xlabel(\"Number of Features Selected\")\n",
    "plt.ylabel(\"Cross-Validation Score (Accuracy)\")\n",
    "plt.grid(True)\n",
    "plt.legend()\n",
    "plt.show()"
   ]
  },
  {
   "cell_type": "code",
   "execution_count": null,
   "id": "520d5d2a-41b2-4411-b0ac-664ed222b721",
   "metadata": {},
   "outputs": [],
   "source": [
    "selected_features = X.columns[rfecv.support_]\n",
    "X_selected = X[selected_features]\n",
    "print(X_selected.shape)"
   ]
  },
  {
   "cell_type": "code",
   "execution_count": null,
   "id": "c436b5db-1ed6-44f3-afc7-f8901b9df49a",
   "metadata": {},
   "outputs": [],
   "source": [
    "print(X_selected.columns)"
   ]
  },
  {
   "cell_type": "markdown",
   "id": "8a9c0157",
   "metadata": {},
   "source": [
    "# FAMD"
   ]
  },
  {
   "cell_type": "code",
   "execution_count": null,
   "id": "5321ca89-64b9-4d1c-8e14-d8411bf8824a",
   "metadata": {},
   "outputs": [],
   "source": [
    "def perform_famd(X):\n",
    "    famd = prince.FAMD(\n",
    "    n_components=5,\n",
    "    n_iter=3, \n",
    "    copy=True,\n",
    "    check_input=True,\n",
    "    random_state=42\n",
    "    )\n",
    "    famd_classifier = famd.fit(X)\n",
    "    return famd_classifier"
   ]
  },
  {
   "cell_type": "code",
   "execution_count": null,
   "id": "fa262a0e-6521-4b9e-b7c5-4ab65b2c2253",
   "metadata": {},
   "outputs": [],
   "source": [
    "famd = perform_famd(X)\n",
    "X = famd.transform(X)"
   ]
  },
  {
   "cell_type": "code",
   "execution_count": null,
   "id": "8dc17cac-b75b-48b2-9c66-5ada08fb53be",
   "metadata": {},
   "outputs": [],
   "source": [
    "print(X.columns)"
   ]
  },
  {
   "cell_type": "markdown",
   "id": "f18b0abd",
   "metadata": {},
   "source": [
    "# Train-Test Split"
   ]
  },
  {
   "cell_type": "code",
   "execution_count": null,
   "id": "9c951253-3735-45af-88bf-6f54867cba66",
   "metadata": {},
   "outputs": [],
   "source": [
    "X_train, X_test, y_train, y_test = train_test_split(X, y, test_size=0.3, random_state=42, stratify=y)"
   ]
  },
  {
   "cell_type": "code",
   "execution_count": null,
   "id": "6671985f-2088-47d6-96fa-c618893e881c",
   "metadata": {},
   "outputs": [],
   "source": [
    "selector = SelectKBest(chi2, k=10)\n",
    "X_train = selector.fit_transform(X_train, y_train)\n",
    "X_test = selector.transform(X_test)"
   ]
  },
  {
   "cell_type": "code",
   "execution_count": null,
   "id": "7930499a-5951-46ab-90d8-abd48d5de0cb",
   "metadata": {
    "scrolled": true
   },
   "outputs": [],
   "source": [
    "selected_features = X.columns[selector.get_support()]\n",
    "print(\"Selected features:\", selected_features)"
   ]
  },
  {
   "cell_type": "markdown",
   "id": "8747d973",
   "metadata": {},
   "source": [
    "# Model Classifiers"
   ]
  },
  {
   "cell_type": "code",
   "execution_count": null,
   "id": "abbc6a24",
   "metadata": {},
   "outputs": [],
   "source": [
    "models = {\n",
    "    \"Random Forest\": RandomForestClassifier(n_estimators=100),\n",
    "    \"Decision Tree\": DecisionTreeClassifier(),\n",
    "    \"SVM\": SVC(probability=True),\n",
    "    \"Naive Bayes\": GaussianNB()\n",
    "}"
   ]
  },
  {
   "cell_type": "markdown",
   "id": "913d089a",
   "metadata": {},
   "source": [
    "# Training the model"
   ]
  },
  {
   "cell_type": "code",
   "execution_count": null,
   "id": "0ec20d0d-b83b-4cd5-a39e-3f035d0af0fc",
   "metadata": {},
   "outputs": [],
   "source": [
    "plt.figure(figsize=(10, 8))\n",
    "for name, model in models.items():\n",
    "    model.fit(X_train, y_train)\n",
    "    y_scores = model.predict_proba(X_test)[:, 1]\n",
    "    fpr, tpr, _ = roc_curve(y_test, y_scores)\n",
    "    roc_auc = auc(fpr, tpr)\n",
    "    plt.plot(fpr, tpr, label=f'{name} (area = {roc_auc:.2f})')\n",
    "\n",
    "plt.plot([0, 1], [0, 1], 'k--')\n",
    "plt.xlabel('False Positive Rate')\n",
    "plt.ylabel('True Positive Rate')\n",
    "plt.title('ROC Curve by Classifier')\n",
    "plt.legend(loc=\"lower right\")\n",
    "plt.savefig('roc_curves_test.png')\n",
    "plt.show()\n",
    "\n",
    "# Display confusion matrices\n",
    "for name, model in models.items():\n",
    "    y_pred = model.predict(X_test)\n",
    "    print(classification_report(y_test, y_pred))\n",
    "    cm = confusion_matrix(y_test, y_pred)\n",
    "    disp = ConfusionMatrixDisplay(confusion_matrix=cm)\n",
    "    disp.plot()\n",
    "    accuracy = accuracy_score(y_test, y_pred)\n",
    "    plt.title(f'Confusion Matrix for {name} -- Accuracy: {accuracy:.2f}')\n",
    "    plt.savefig(f'confusion_matrix_{name}.png')\n",
    "    plt.show()\n"
   ]
  },
  {
   "cell_type": "markdown",
   "id": "a209c655",
   "metadata": {},
   "source": [
    "# Loading the Test Data"
   ]
  },
  {
   "cell_type": "code",
   "execution_count": null,
   "id": "f6086745-d919-4f76-ba17-524f56768edc",
   "metadata": {},
   "outputs": [],
   "source": [
    "test_data =  pd.read_csv('dataset/test2.csv')\n",
    "test_data.head()"
   ]
  },
  {
   "cell_type": "code",
   "execution_count": null,
   "id": "59e92055-10d8-462c-a035-5832dce68f1b",
   "metadata": {},
   "outputs": [],
   "source": [
    "columns_na = test_data.isna().any()\n",
    "print(columns_na)"
   ]
  },
  {
   "cell_type": "code",
   "execution_count": null,
   "id": "1b55bb79-263a-49dd-b169-47af14d96653",
   "metadata": {},
   "outputs": [],
   "source": [
    "X_test = test_data.drop(['RowNumber', 'CustomerId', 'Surname', 'Exited'], axis=1)"
   ]
  },
  {
   "cell_type": "code",
   "execution_count": null,
   "id": "23c28ccf-8b96-4ad6-b430-6c2cdc1b8c33",
   "metadata": {},
   "outputs": [],
   "source": [
    "y_test = test_data['Exited']"
   ]
  },
  {
   "cell_type": "code",
   "execution_count": null,
   "id": "3b78c0df-ef12-4741-94bb-08f071d443e8",
   "metadata": {},
   "outputs": [],
   "source": [
    "X_test = scaling_data(X_test, numerical, categorical)\n",
    "X_test.head()"
   ]
  },
  {
   "cell_type": "code",
   "execution_count": null,
   "id": "1852760e-1530-4ed1-8340-45dffe3905d0",
   "metadata": {},
   "outputs": [],
   "source": [
    "X_test = selector.transform(X_test)"
   ]
  },
  {
   "cell_type": "markdown",
   "id": "dac51a69",
   "metadata": {},
   "source": [
    "# Testing the model"
   ]
  },
  {
   "cell_type": "code",
   "execution_count": null,
   "id": "4dcfd3d4-f0f8-4fd5-95f2-d3094e19423a",
   "metadata": {},
   "outputs": [],
   "source": [
    "plt.figure(figsize=(10, 10))\n",
    "for name, model in models.items():\n",
    "    y_scores = model.predict_proba(X_test)[:, 1]\n",
    "    fpr, tpr, _ = roc_curve(y_test, y_scores)\n",
    "    roc_auc = auc(fpr, tpr)\n",
    "    plt.plot(fpr, tpr, label=f'{name} (area = {roc_auc:.2f})')\n",
    "\n",
    "plt.plot([0, 1], [0, 1], 'k--')\n",
    "plt.xlabel('False Positive Rate')\n",
    "plt.ylabel('True Positive Rate')\n",
    "plt.title('ROC Curve by Classifier')\n",
    "plt.legend(loc=\"lower right\")\n",
    "plt.savefig('roc_curves_finaltest.png')\n",
    "plt.show()\n",
    "\n",
    "# Display confusion matrices\n",
    "for name, model in models.items():\n",
    "    y_pred = model.predict(X_test)\n",
    "    print(classification_report(y_test, y_pred))\n",
    "    cm = confusion_matrix(y_test, y_pred)\n",
    "    disp = ConfusionMatrixDisplay(confusion_matrix=cm)\n",
    "    disp.plot()\n",
    "    accuracy = accuracy_score(y_test, y_pred)\n",
    "    plt.title(f'Confusion Matrix for {name} -- Accuracy: {accuracy:.2f}')\n",
    "    plt.savefig(f'confusion_matrix_final_{name}.png')\n",
    "    plt.show()\n"
   ]
  }
 ],
 "metadata": {
  "kernelspec": {
   "display_name": "Python 3 (ipykernel)",
   "language": "python",
   "name": "python3"
  },
  "language_info": {
   "codemirror_mode": {
    "name": "ipython",
    "version": 3
   },
   "file_extension": ".py",
   "mimetype": "text/x-python",
   "name": "python",
   "nbconvert_exporter": "python",
   "pygments_lexer": "ipython3",
   "version": "3.11.5"
  }
 },
 "nbformat": 4,
 "nbformat_minor": 5
}
